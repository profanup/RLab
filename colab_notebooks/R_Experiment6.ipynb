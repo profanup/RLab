{
  "nbformat": 4,
  "nbformat_minor": 0,
  "metadata": {
    "colab": {
      "name": "Experiment6.ipynb",
      "provenance": [],
      "authorship_tag": "ABX9TyOqaZqOBU01exs7NjPrlYp1",
      "include_colab_link": true
    },
    "kernelspec": {
      "name": "python3",
      "display_name": "Python 3"
    },
    "language_info": {
      "name": "python"
    }
  },
  "cells": [
    {
      "cell_type": "markdown",
      "metadata": {
        "id": "view-in-github",
        "colab_type": "text"
      },
      "source": [
        "<a href=\"https://colab.research.google.com/github/profanup/RLab/blob/main/Experiment6.ipynb\" target=\"_parent\"><img src=\"https://colab.research.google.com/assets/colab-badge.svg\" alt=\"Open In Colab\"/></a>"
      ]
    },
    {
      "cell_type": "markdown",
      "source": [
        "AS part of Experiment 6 students have to perform EDA analysis on a Custom Data set kept at [Data Set Link](https://github.com/profanup/RLab/blob/main/datasets/Dataset_Exam_RSheet1.csv)\n",
        "Studnets need to follow all steps generally followed in any kind of exploratory data analysis like\n",
        "\n",
        "1.   Getting and reading data set into your execution environment\n",
        "2.   Understanding data contents and explaining them\n",
        "3.   Preprocessing data to make it clean explaing rationale for same\n",
        "4.   Asking 2-3 different analystical questions that require you to plot single or multiple variables and/or find summary of certain attributes.\n",
        "\n",
        "5.   Definig some Machine Learning problem based on data at hand and definining and solving it using R Liraries not Python.\n",
        "\n",
        "Note: All BE IT students should solve this in **group of 4, roll number wise** as your oral exam will be based on this note book contents. That is Roll number 1-4, 5-8, 9-12 ... will have same colab note book as they are working as a group. Each group need to have their own inight about the data set. To some extent the analysis could be same but ther must be some uniqness in each groups work in term of choice of graphical/non graphical technique, handling of data set/its pre processing selection and subsetting the data set, choice of/definition of ML problem based on data and ML technique used to solve the problem.    \n",
        "\n",
        "Please delete the note above in your fornal colab noetbook. Submission instructions remain the same as earlier experiments."
      ],
      "metadata": {
        "id": "vnBzOze2AEGP"
      }
    },
    {
      "cell_type": "code",
      "execution_count": null,
      "metadata": {
        "id": "HIivWh5lADGF"
      },
      "outputs": [],
      "source": [
        ""
      ]
    }
  ]
}