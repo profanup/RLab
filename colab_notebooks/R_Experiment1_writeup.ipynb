{
  "nbformat": 4,
  "nbformat_minor": 0,
  "metadata": {
    "colab": {
      "name": "R_Experiment1_writeup.ipynb",
      "provenance": [],
      "collapsed_sections": [],
      "authorship_tag": "ABX9TyPA6sh27CdWCLyXk9oLfUTs",
      "include_colab_link": true
    },
    "kernelspec": {
      "name": "ir",
      "display_name": "R"
    }
  },
  "cells": [
    {
      "cell_type": "markdown",
      "metadata": {
        "id": "view-in-github",
        "colab_type": "text"
      },
      "source": [
        "<a href=\"https://colab.research.google.com/github/profanup/RLab/blob/main/R_Experiment1_writeup.ipynb\" target=\"_parent\"><img src=\"https://colab.research.google.com/assets/colab-badge.svg\" alt=\"Open In Colab\"/></a>"
      ]
    },
    {
      "cell_type": "markdown",
      "metadata": {
        "id": "ID8ytqkhyQUI"
      },
      "source": [
        "**Basics of R Programming**\n",
        "\n",
        "Let us learn basic building blocks of the R programming language.\n",
        "\n",
        "In most comman way R can be though as an interactive calculator.\n",
        "\n",
        "Try executing following code block\n"
      ]
    },
    {
      "cell_type": "code",
      "metadata": {
        "id": "laFgRgayS6Yq"
      },
      "source": [
        "#Code cell\n",
        "5*7"
      ],
      "execution_count": null,
      "outputs": []
    },
    {
      "cell_type": "code",
      "metadata": {
        "id": "_ToRK7PP16VG"
      },
      "source": [
        "typeof(12)"
      ],
      "execution_count": null,
      "outputs": []
    },
    {
      "cell_type": "markdown",
      "metadata": {
        "id": "dwkEL9UGTdDu"
      },
      "source": [
        " **Store computed value in a variable**\n",
        "\n",
        " The way you assign a value to a variable in R is by using the assignment operator, which is just a 'less than'symbol followed by a 'minus' sign. It looks like this: <-"
      ]
    },
    {
      "cell_type": "code",
      "metadata": {
        "id": "uoJ8DVxkT1cq"
      },
      "source": [
        "#Store result of 5+7 in varible c\n",
        "c<-5+8*6\n",
        "c"
      ],
      "execution_count": null,
      "outputs": []
    },
    {
      "cell_type": "code",
      "metadata": {
        "id": "51YX5Hh-13Fk"
      },
      "source": [
        "typeof(c)"
      ],
      "execution_count": null,
      "outputs": []
    },
    {
      "cell_type": "markdown",
      "metadata": {
        "id": "J3OsGT5RV-8v"
      },
      "source": [
        "We can further use variable c in another exrpession to create variable b which is 1 excess that one fourth of value of c"
      ]
    },
    {
      "cell_type": "code",
      "metadata": {
        "id": "5jf2aI3KT1qj"
      },
      "source": [
        "b<-c/4+1\n",
        "b \n",
        "d=c/4+1\n",
        "d"
      ],
      "execution_count": null,
      "outputs": []
    },
    {
      "cell_type": "code",
      "metadata": {
        "id": "Ngf878ZR2GB6"
      },
      "source": [
        "typeof(b)\n",
        "typeof(d)\n"
      ],
      "execution_count": null,
      "outputs": []
    },
    {
      "cell_type": "markdown",
      "metadata": {
        "id": "1E01QTsy05p_"
      },
      "source": [
        "**Creation of Vector**\n",
        "\n",
        "The easiest way to create a vector is with the c() function, which stands for 'concatenate' or 'combine'. \n",
        "\n",
        " To create a vector containing the numbers 1.1, 9, and 3.14, type c(1.1, 9, 3.14). Try it now and store the result in a variable called z in following code block. "
      ]
    },
    {
      "cell_type": "code",
      "metadata": {
        "id": "Dgx9ap0OT12g"
      },
      "source": [
        "z <- c(1.1, 9, 'dhg')\n",
        "z\n",
        "z1 <- c(1.1, 9, 5,566,4564.545646)\n",
        "z1\n"
      ],
      "execution_count": null,
      "outputs": []
    },
    {
      "cell_type": "code",
      "metadata": {
        "id": "2WTysXG82Mnt"
      },
      "source": [
        "typeof(z)\n",
        "typeof(z1)\n",
        "class(z)"
      ],
      "execution_count": null,
      "outputs": []
    },
    {
      "cell_type": "code",
      "metadata": {
        "id": "-Xl8TbUC3AWV"
      },
      "source": [
        "z"
      ],
      "execution_count": null,
      "outputs": []
    },
    {
      "cell_type": "code",
      "metadata": {
        "id": "-0bEqCrA2OGa"
      },
      "source": [
        "#Get Documentation about concatinate\n",
        "?c\n",
        "#help(c)"
      ],
      "execution_count": null,
      "outputs": []
    },
    {
      "cell_type": "markdown",
      "metadata": {
        "id": "wIk26TAl3Uww"
      },
      "source": [
        "**You can combine vectors to make a new vector** \n",
        "\n",
        "Create a new vector that contains z, 555, then z again in that order. Don't assign this vector to a new variable, so that we can just see the result immediately."
      ]
    },
    {
      "cell_type": "code",
      "metadata": {
        "id": "ijGw7IF73AoV"
      },
      "source": [
        "d <-c(z,555,z)\n",
        "length(d)"
      ],
      "execution_count": null,
      "outputs": []
    },
    {
      "cell_type": "code",
      "metadata": {
        "id": "2nrXSHBjSFQ4"
      },
      "source": [
        "z<-c(3,6,5)"
      ],
      "execution_count": null,
      "outputs": []
    },
    {
      "cell_type": "markdown",
      "metadata": {
        "id": "2W1R03gK3mWg"
      },
      "source": [
        "**Using Vector in Expression**\n",
        "\n",
        "compute z^2 + 3 and check output"
      ]
    },
    {
      "cell_type": "code",
      "metadata": {
        "id": "N_x4nZD-2ifL"
      },
      "source": [
        "z\n",
        "z^2+3"
      ],
      "execution_count": null,
      "outputs": []
    },
    {
      "cell_type": "markdown",
      "metadata": {
        "id": "l8y1jiYZAKGH"
      },
      "source": [
        "When we do z * 2 + 100, z is a vector of length 3, but technically 2 and 100 are each vectors of length 1. **Try it in the code block below**."
      ]
    },
    {
      "cell_type": "code",
      "metadata": {
        "id": "n1BjFnY8QR9_"
      },
      "source": [
        ""
      ],
      "execution_count": null,
      "outputs": []
    },
    {
      "cell_type": "markdown",
      "metadata": {
        "id": "C6Sl3d3m4Mpu"
      },
      "source": [
        "**Comman Arithmatic Operators in R**\n",
        "\n",
        "+, -, /, *, ^ are comman operators and sqrt, abs are arithmatic functions in R"
      ]
    },
    {
      "cell_type": "markdown",
      "metadata": {
        "id": "MhpNvKxD5b39"
      },
      "source": [
        "When given two vectors of the same length, R simply performs the specified arithmetic operation (`+`, `-`, `*` etc.) element-by-element. If the vectors are of different lengths, R 'recycles' the shorter vector until it is the same length as the longer vector.\n",
        "\n"
      ]
    },
    {
      "cell_type": "code",
      "metadata": {
        "id": "ymnNvfCUJX__"
      },
      "source": [
        "y<-rep(2,10)\n",
        "y\n",
        "length(y)"
      ],
      "execution_count": null,
      "outputs": []
    },
    {
      "cell_type": "code",
      "metadata": {
        "id": "vENgSa6E32kc"
      },
      "source": [
        "# Does recycling explains output of following expression\n",
        "c(1, 2, 3, 4) + c(0, 10)\n",
        "c(1, 2, 3, 4) + c(0, 10, 0 ,10)\n",
        "c(1, 2, 3, 4, 5) + c(2, 10)\n",
        "c(1, 2, 3, 4, 5) + c(2, 10, 2, 10, 2)"
      ],
      "execution_count": null,
      "outputs": []
    },
    {
      "cell_type": "markdown",
      "metadata": {
        "id": "WQW7cdOiUQGB"
      },
      "source": [
        "**How to access disk?** "
      ]
    },
    {
      "cell_type": "code",
      "metadata": {
        "id": "5lA714zl6KG3"
      },
      "source": [
        "curdir<-getwd()\n",
        "curdir"
      ],
      "execution_count": null,
      "outputs": []
    },
    {
      "cell_type": "code",
      "metadata": {
        "id": "qfLiWY-f2bx3"
      },
      "source": [
        "ls()"
      ],
      "execution_count": null,
      "outputs": []
    },
    {
      "cell_type": "code",
      "metadata": {
        "id": "ksWmlrly2nEP"
      },
      "source": [
        "#show you files in PWD\n",
        "list.files()\n",
        "#dir('.')"
      ],
      "execution_count": null,
      "outputs": []
    },
    {
      "cell_type": "code",
      "metadata": {
        "id": "QkEscD2x3CnA"
      },
      "source": [
        "list.dirs('sample_data')"
      ],
      "execution_count": null,
      "outputs": []
    },
    {
      "cell_type": "code",
      "metadata": {
        "id": "Q_0Aq8xP3F2P"
      },
      "source": [
        "old_dir<-getwd()"
      ],
      "execution_count": null,
      "outputs": []
    },
    {
      "cell_type": "code",
      "metadata": {
        "id": "qg_N6Ejx3krB"
      },
      "source": [
        "#creates a folder on ur device \n",
        "dir.create('test2')"
      ],
      "execution_count": null,
      "outputs": []
    },
    {
      "cell_type": "code",
      "metadata": {
        "id": "sIkEEQaC38Mm"
      },
      "source": [
        "list.dirs()"
      ],
      "execution_count": null,
      "outputs": []
    },
    {
      "cell_type": "code",
      "metadata": {
        "id": "JEZqFJwN4Bit"
      },
      "source": [
        "getwd()"
      ],
      "execution_count": null,
      "outputs": []
    },
    {
      "cell_type": "code",
      "metadata": {
        "id": "-4s6O4Bs4IrF"
      },
      "source": [
        "file.create('mytest.R')"
      ],
      "execution_count": null,
      "outputs": []
    },
    {
      "cell_type": "code",
      "metadata": {
        "id": "7qFMXVAD4aJp"
      },
      "source": [
        "dir()"
      ],
      "execution_count": null,
      "outputs": []
    },
    {
      "cell_type": "code",
      "metadata": {
        "id": "haRUcBBT4kPf"
      },
      "source": [
        "file.exists('/test2/mytest.R')\n",
        "file.exists('mytest.R')"
      ],
      "execution_count": null,
      "outputs": []
    },
    {
      "cell_type": "code",
      "metadata": {
        "id": "254zalqu4r2-"
      },
      "source": [
        "file.info('./myTest.R')"
      ],
      "execution_count": null,
      "outputs": []
    },
    {
      "cell_type": "code",
      "metadata": {
        "colab": {
          "base_uri": "https://localhost:8080/",
          "height": 35
        },
        "id": "Zpnce-Rn5KTs",
        "outputId": "53e90f5a-f120-4e00-c870-3d0a1817da4e"
      },
      "source": [
        "file.rename('mytest.R','mytest2.R')"
      ],
      "execution_count": null,
      "outputs": [
        {
          "output_type": "display_data",
          "data": {
            "text/plain": [
              "[1] TRUE"
            ],
            "text/latex": "TRUE",
            "text/markdown": "TRUE",
            "text/html": [
              "TRUE"
            ]
          },
          "metadata": {
            "tags": []
          }
        }
      ]
    },
    {
      "cell_type": "code",
      "metadata": {
        "id": "7z0Z3KOX5exz"
      },
      "source": [
        "dir()"
      ],
      "execution_count": null,
      "outputs": []
    },
    {
      "cell_type": "code",
      "metadata": {
        "id": "A0RhfnOe5hzW"
      },
      "source": [
        "file.copy('mytest2.R','mytest3.R')"
      ],
      "execution_count": null,
      "outputs": []
    },
    {
      "cell_type": "code",
      "metadata": {
        "id": "_BRKWKFp8kuV"
      },
      "source": [
        "file.path('testdir2','testdir3')"
      ],
      "execution_count": null,
      "outputs": []
    },
    {
      "cell_type": "code",
      "metadata": {
        "id": "6oN630V6577F"
      },
      "source": [
        " dir.create(file.path('testdir2','testdir3'),recursive = TRUE)"
      ],
      "execution_count": null,
      "outputs": []
    },
    {
      "cell_type": "code",
      "metadata": {
        "id": "lZIz4bXC7L1f"
      },
      "source": [
        "dir()"
      ],
      "execution_count": null,
      "outputs": []
    },
    {
      "cell_type": "code",
      "metadata": {
        "id": "9eI0FKYV7Uqr"
      },
      "source": [
        "setwd('testdir2')"
      ],
      "execution_count": null,
      "outputs": []
    },
    {
      "cell_type": "code",
      "metadata": {
        "id": "zU4Ed3KXX4oe"
      },
      "source": [
        "dir()\n",
        "getwd()"
      ],
      "execution_count": null,
      "outputs": []
    },
    {
      "cell_type": "markdown",
      "metadata": {
        "id": "qM2e_KzXBjST"
      },
      "source": [
        "**Complete following tasks**\n",
        "\n",
        "Write R Code:\n",
        " \n",
        "\n",
        "1.    To create a directory named myworkplace in current working dirctory.\n",
        "2.   Create a folders/directories **exp1 and exp2** in it.\n",
        "3.   Navigate to **exp1** and create a file named **my_file.txt**. \n",
        "4.   Copy it to **my_file1.txt**\n",
        "5.   List files and folders in PWD and also in '/contents' directory  \n",
        "6.   Display only File access permisssion in the output for every file in **exp1** folder. "
      ]
    },
    {
      "cell_type": "code",
      "metadata": {
        "id": "t9sGb9VoDft9"
      },
      "source": [
        "#create a directory named myworkplace in current working dirctory.\n",
        "dir.create('myworkplace')\n"
      ],
      "execution_count": null,
      "outputs": []
    },
    {
      "cell_type": "code",
      "metadata": {
        "id": "4JbbDiIuBipn",
        "colab": {
          "base_uri": "https://localhost:8080/",
          "height": 35
        },
        "outputId": "9ff20543-1b7d-4060-9cfd-688b428d8ada"
      },
      "source": [
        "#validation\n",
        "dir()"
      ],
      "execution_count": null,
      "outputs": [
        {
          "output_type": "display_data",
          "data": {
            "text/plain": [
              "[1] \"myworkplace\" \"testdir3\"   "
            ],
            "text/latex": "\\begin{enumerate*}\n\\item 'myworkplace'\n\\item 'testdir3'\n\\end{enumerate*}\n",
            "text/markdown": "1. 'myworkplace'\n2. 'testdir3'\n\n\n",
            "text/html": [
              "<style>\n",
              ".list-inline {list-style: none; margin:0; padding: 0}\n",
              ".list-inline>li {display: inline-block}\n",
              ".list-inline>li:not(:last-child)::after {content: \"\\00b7\"; padding: 0 .5ex}\n",
              "</style>\n",
              "<ol class=list-inline><li>'myworkplace'</li><li>'testdir3'</li></ol>\n"
            ]
          },
          "metadata": {
            "tags": []
          }
        }
      ]
    },
    {
      "cell_type": "code",
      "metadata": {
        "id": "JtqkpSm4bDdf"
      },
      "source": [
        "#Create a folders/directories exp1 and exp2 inside it.\n",
        "dirlist <- c('exp1','exp2')\n",
        "#dirlist[1]\n",
        "paths <- file.path('workplace',dirlist)\n",
        "dir.create(paths[1],recursive = TRUE)\n",
        "dir.create(paths[2],recursive=TRUE)"
      ],
      "execution_count": null,
      "outputs": []
    },
    {
      "cell_type": "code",
      "metadata": {
        "colab": {
          "base_uri": "https://localhost:8080/",
          "height": 145
        },
        "id": "mvuhTSnUdUSh",
        "outputId": "68cd6bad-606b-4437-a605-f65f7e492855"
      },
      "source": [
        "dir('./workplace')\n",
        "file.info('./workplace/exp1')"
      ],
      "execution_count": null,
      "outputs": [
        {
          "output_type": "display_data",
          "data": {
            "text/plain": [
              "[1] \"exp1\" \"exp2\""
            ],
            "text/latex": "\\begin{enumerate*}\n\\item 'exp1'\n\\item 'exp2'\n\\end{enumerate*}\n",
            "text/markdown": "1. 'exp1'\n2. 'exp2'\n\n\n",
            "text/html": [
              "<style>\n",
              ".list-inline {list-style: none; margin:0; padding: 0}\n",
              ".list-inline>li {display: inline-block}\n",
              ".list-inline>li:not(:last-child)::after {content: \"\\00b7\"; padding: 0 .5ex}\n",
              "</style>\n",
              "<ol class=list-inline><li>'exp1'</li><li>'exp2'</li></ol>\n"
            ]
          },
          "metadata": {
            "tags": []
          }
        },
        {
          "output_type": "display_data",
          "data": {
            "text/plain": [
              "                 size isdir mode mtime               ctime              \n",
              "./workplace/exp1 4096 TRUE  755  2021-02-11 09:38:49 2021-02-11 09:38:49\n",
              "                 atime               uid gid uname grname\n",
              "./workplace/exp1 2021-02-11 09:38:49 0   0   root  root  "
            ],
            "text/latex": "A data.frame: 1 × 10\n\\begin{tabular}{r|llllllllll}\n  & size & isdir & mode & mtime & ctime & atime & uid & gid & uname & grname\\\\\n  & <dbl> & <lgl> & <octmode> & <dttm> & <dttm> & <dttm> & <int> & <int> & <chr> & <chr>\\\\\n\\hline\n\t./workplace/exp1 & 4096 & TRUE & 755 & 2021-02-11 09:38:49 & 2021-02-11 09:38:49 & 2021-02-11 09:38:49 & 0 & 0 & root & root\\\\\n\\end{tabular}\n",
            "text/markdown": "\nA data.frame: 1 × 10\n\n| <!--/--> | size &lt;dbl&gt; | isdir &lt;lgl&gt; | mode &lt;octmode&gt; | mtime &lt;dttm&gt; | ctime &lt;dttm&gt; | atime &lt;dttm&gt; | uid &lt;int&gt; | gid &lt;int&gt; | uname &lt;chr&gt; | grname &lt;chr&gt; |\n|---|---|---|---|---|---|---|---|---|---|---|\n| ./workplace/exp1 | 4096 | TRUE | 755 | 2021-02-11 09:38:49 | 2021-02-11 09:38:49 | 2021-02-11 09:38:49 | 0 | 0 | root | root |\n\n",
            "text/html": [
              "<table class=\"dataframe\">\n",
              "<caption>A data.frame: 1 × 10</caption>\n",
              "<thead>\n",
              "\t<tr><th></th><th scope=col>size</th><th scope=col>isdir</th><th scope=col>mode</th><th scope=col>mtime</th><th scope=col>ctime</th><th scope=col>atime</th><th scope=col>uid</th><th scope=col>gid</th><th scope=col>uname</th><th scope=col>grname</th></tr>\n",
              "\t<tr><th></th><th scope=col>&lt;dbl&gt;</th><th scope=col>&lt;lgl&gt;</th><th scope=col>&lt;octmode&gt;</th><th scope=col>&lt;dttm&gt;</th><th scope=col>&lt;dttm&gt;</th><th scope=col>&lt;dttm&gt;</th><th scope=col>&lt;int&gt;</th><th scope=col>&lt;int&gt;</th><th scope=col>&lt;chr&gt;</th><th scope=col>&lt;chr&gt;</th></tr>\n",
              "</thead>\n",
              "<tbody>\n",
              "\t<tr><th scope=row>./workplace/exp1</th><td>4096</td><td>TRUE</td><td>755</td><td>2021-02-11 09:38:49</td><td>2021-02-11 09:38:49</td><td>2021-02-11 09:38:49</td><td>0</td><td>0</td><td>root</td><td>root</td></tr>\n",
              "</tbody>\n",
              "</table>\n"
            ]
          },
          "metadata": {
            "tags": []
          }
        }
      ]
    },
    {
      "cell_type": "code",
      "metadata": {
        "colab": {
          "base_uri": "https://localhost:8080/",
          "height": 35
        },
        "id": "ixsinDvqcRK8",
        "outputId": "39ef2212-d238-4e86-f2c7-79a44ef5b9c2"
      },
      "source": [
        "#navigate to exp1 directory\n",
        "setwd(paths[1])\n",
        "getwd()"
      ],
      "execution_count": null,
      "outputs": [
        {
          "output_type": "display_data",
          "data": {
            "text/plain": [
              "[1] \"/content/testdir2/workplace/exp1\""
            ],
            "text/latex": "'/content/testdir2/workplace/exp1'",
            "text/markdown": "'/content/testdir2/workplace/exp1'",
            "text/html": [
              "'/content/testdir2/workplace/exp1'"
            ]
          },
          "metadata": {
            "tags": []
          }
        }
      ]
    },
    {
      "cell_type": "code",
      "metadata": {
        "colab": {
          "base_uri": "https://localhost:8080/",
          "height": 35
        },
        "id": "YYGLvgjvck_r",
        "outputId": "3eb6270c-9856-47cd-e82e-65b469c121c0"
      },
      "source": [
        "file.create('myfile.txt')"
      ],
      "execution_count": null,
      "outputs": [
        {
          "output_type": "display_data",
          "data": {
            "text/plain": [
              "[1] TRUE"
            ],
            "text/latex": "TRUE",
            "text/markdown": "TRUE",
            "text/html": [
              "TRUE"
            ]
          },
          "metadata": {
            "tags": []
          }
        }
      ]
    }
  ]
}