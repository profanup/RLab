{
  "nbformat": 4,
  "nbformat_minor": 0,
  "metadata": {
    "colab": {
      "name": "R_Experiment3_writeup.ipynb",
      "provenance": [],
      "collapsed_sections": [],
      "authorship_tag": "ABX9TyPNSTnXSka9wVEGDqaoCtT+",
      "include_colab_link": true
    },
    "kernelspec": {
      "name": "ir",
      "display_name": "R"
    }
  },
  "cells": [
    {
      "cell_type": "markdown",
      "metadata": {
        "id": "view-in-github",
        "colab_type": "text"
      },
      "source": [
        "<a href=\"https://colab.research.google.com/github/profanup/RLab/blob/main/R_Experiment3_writeup.ipynb\" target=\"_parent\"><img src=\"https://colab.research.google.com/assets/colab-badge.svg\" alt=\"Open In Colab\"/></a>"
      ]
    },
    {
      "cell_type": "markdown",
      "metadata": {
        "id": "ID8ytqkhyQUI"
      },
      "source": [
        "**R Programming functions**\n",
        "\n",
        "In this experiment we will learn about how to organise code as function in R"
      ]
    },
    {
      "cell_type": "code",
      "metadata": {
        "id": "rlOEIqlfJf2P"
      },
      "source": [
        "# Declare a fuction ret_element that return indexed element from input vector\n",
        "\n"
      ],
      "execution_count": null,
      "outputs": []
    },
    {
      "cell_type": "code",
      "metadata": {
        "id": "_MpkcF3VJ5sJ"
      },
      "source": [
        "# Redefine above function  to have default argument index to have value 0 such that it will return first element if second argument is missing\n",
        "\n"
      ],
      "execution_count": null,
      "outputs": []
    },
    {
      "cell_type": "code",
      "metadata": {
        "id": "ynQ5Dau4KlNR"
      },
      "source": [
        "#using above function define a function that will extract an element in a matrix\n",
        "#[1 2 3   1 2  -->   ret_eement ([2 5] , 1) ] -->   2   \n",
        "# 4 5 5\n",
        "\n"
      ],
      "execution_count": null,
      "outputs": []
    },
    {
      "cell_type": "code",
      "metadata": {
        "id": "dEvtzVL8ZR3W"
      },
      "source": [
        "# Consider a vector x having 200 Random normal numbers with parameters mean as 60\n",
        "# and standanrd deviation as 2  another vector x2 as 200 uniform random numbers \n",
        "# in range min=120 and max=160. Write a user defined function create_frame that \n",
        "# takes these vecotrs as inputs and represents them into a data frame \n",
        "# with x1 labelled as age and x2 labelled as Systolic Blood Pressure  "
      ],
      "execution_count": null,
      "outputs": []
    },
    {
      "cell_type": "code",
      "metadata": {
        "id": "UKVdsthBau3p"
      },
      "source": [
        "# write a R function that inputs a number and return double of it if it is positive\n",
        "#returns half if it is negative and return a call to same function with number+1 \n",
        "#uniform random number in range -2  and 2 "
      ],
      "execution_count": null,
      "outputs": []
    },
    {
      "cell_type": "code",
      "metadata": {
        "id": "QWgrLTERbb2d"
      },
      "source": [
        "# Write a R function that return all prime numbers between(and including) start and end parameter \n",
        "# where default value for start is 2 and end is 10\n",
        "# show how u use this method to obtain first 10 prime numbers with out changing its code."
      ],
      "execution_count": null,
      "outputs": []
    }
  ]
}