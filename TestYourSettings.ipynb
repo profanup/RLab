{
  "nbformat": 4,
  "nbformat_minor": 0,
  "metadata": {
    "colab": {
      "name": "Test.ipynb",
      "provenance": [],
      "authorship_tag": "ABX9TyN7uXFcQbuIE1mjRafF5Rs8",
      "include_colab_link": true
    },
    "kernelspec": {
      "name": "ir",
      "display_name": "R"
    },
    "language_info": {
      "name": "R"
    }
  },
  "cells": [
    {
      "cell_type": "markdown",
      "metadata": {
        "id": "view-in-github",
        "colab_type": "text"
      },
      "source": [
        "<a href=\"https://colab.research.google.com/github/profanup/RLab/blob/main/TestYourSettings.ipynb\" target=\"_parent\"><img src=\"https://colab.research.google.com/assets/colab-badge.svg\" alt=\"Open In Colab\"/></a>"
      ]
    },
    {
      "cell_type": "code",
      "metadata": {
        "colab": {
          "base_uri": "https://localhost:8080/",
          "height": 272
        },
        "id": "HvLrPYRZ8twK",
        "outputId": "8fb4a003-1bb6-4bbc-d1a7-054cde3c897f"
      },
      "source": [
        "R.version"
      ],
      "execution_count": 1,
      "outputs": [
        {
          "output_type": "display_data",
          "data": {
            "text/plain": [
              "               _                           \n",
              "platform       x86_64-pc-linux-gnu         \n",
              "arch           x86_64                      \n",
              "os             linux-gnu                   \n",
              "system         x86_64, linux-gnu           \n",
              "status                                     \n",
              "major          4                           \n",
              "minor          0.5                         \n",
              "year           2021                        \n",
              "month          03                          \n",
              "day            31                          \n",
              "svn rev        80133                       \n",
              "language       R                           \n",
              "version.string R version 4.0.5 (2021-03-31)\n",
              "nickname       Shake and Throw             "
            ]
          },
          "metadata": {
            "tags": []
          }
        }
      ]
    },
    {
      "cell_type": "code",
      "metadata": {
        "id": "z0s7sV-88-k7"
      },
      "source": [
        "print(installed.packages())"
      ],
      "execution_count": null,
      "outputs": []
    }
  ]
}