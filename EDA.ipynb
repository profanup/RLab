{
  "nbformat": 4,
  "nbformat_minor": 0,
  "metadata": {
    "colab": {
      "name": "EDA.ipynb",
      "provenance": [],
      "authorship_tag": "ABX9TyOrPlx+DCCti3mo5oXvGfhn",
      "include_colab_link": true
    },
    "kernelspec": {
      "name": "ir",
      "display_name": "R"
    },
    "language_info": {
      "name": "R"
    }
  },
  "cells": [
    {
      "cell_type": "markdown",
      "metadata": {
        "id": "view-in-github",
        "colab_type": "text"
      },
      "source": [
        "<a href=\"https://colab.research.google.com/github/profanup/RLab/blob/main/EDA.ipynb\" target=\"_parent\"><img src=\"https://colab.research.google.com/assets/colab-badge.svg\" alt=\"Open In Colab\"/></a>"
      ]
    },
    {
      "cell_type": "markdown",
      "metadata": {
        "id": "Hn7wKeeSLzTs"
      },
      "source": [
        "**Data Science Project**\n",
        "\n",
        "\n",
        "For our analysis and the R programming, we will make use of the following R packages:\n",
        "\n"
      ]
    },
    {
      "cell_type": "code",
      "metadata": {
        "colab": {
          "base_uri": "https://localhost:8080/"
        },
        "id": "nkWdITjwLnyK",
        "outputId": "e12c3ac3-a4a5-4de3-c68c-fd2f8fd12cf2"
      },
      "source": [
        "library(dplyr)   # Easy data cleaning, and the very convenient pipe operator <\n",
        "library(ggplot2) # Beautiful plots\n",
        "library(mgcv)    # Package to fit generalized additive models"
      ],
      "execution_count": 1,
      "outputs": [
        {
          "output_type": "stream",
          "text": [
            "\n",
            "Attaching package: ‘dplyr’\n",
            "\n",
            "\n",
            "The following objects are masked from ‘package:stats’:\n",
            "\n",
            "    filter, lag\n",
            "\n",
            "\n",
            "The following objects are masked from ‘package:base’:\n",
            "\n",
            "    intersect, setdiff, setequal, union\n",
            "\n",
            "\n",
            "Loading required package: nlme\n",
            "\n",
            "\n",
            "Attaching package: ‘nlme’\n",
            "\n",
            "\n",
            "The following object is masked from ‘package:dplyr’:\n",
            "\n",
            "    collapse\n",
            "\n",
            "\n",
            "This is mgcv 1.8-35. For overview type 'help(\"mgcv-package\")'.\n",
            "\n"
          ],
          "name": "stderr"
        }
      ]
    },
    {
      "cell_type": "markdown",
      "metadata": {
        "id": "cdIJlfgeMbq3"
      },
      "source": [
        "**A basic data science project consists of the following six steps:**\n",
        "\n",
        " \n",
        "\n",
        "1.   **State the problem** you are trying to solve. It has to be an unambiguous question that can be answered with data and a statistical or machine learning model. At least, specify: What is being observed? What has to be predicted?\n",
        "\n",
        "2.   **Collect the data**, then clean and prepare it. This is commonly the most time-consuming task, but it has to be done in order to fit a prediction model with the data.\n",
        "\n",
        "3.   **Explore the data.** Get to know its properties and quirks. Check numerical summaries of your metric variables, tables of the categorical data, and plot univariate and multivariate representations of your variables. By this, you also get an overview of the quality of the data and can find outliers.\n",
        "\n",
        "4.   **Check if any variables may need to be transformed.** Most commonly, this is a logarithmic transformation of skewed measurements such as concentrations or times. Also, some variables might have to be split up into two or more variables.\n",
        "\n",
        "5.  **Choose a model and train it on the data.** If you have more than one candidate model, apply each and evaluate their goodness-of-fit using independent data that was not used for training the model.\n",
        "\n",
        "6.  **Use the best model to make your final predictions.**"
      ]
    },
    {
      "cell_type": "code",
      "metadata": {
        "colab": {
          "base_uri": "https://localhost:8080/",
          "height": 34
        },
        "id": "Fh_UwWGERcse",
        "outputId": "ed07ca83-3bba-4c40-c766-8c2edb377365"
      },
      "source": [
        "data(rivers)\n",
        "ls()"
      ],
      "execution_count": 64,
      "outputs": [
        {
          "output_type": "display_data",
          "data": {
            "text/plain": [
              " [1] \"avgpm25\"     \"awake_only\"  \"filename\"    \"msleep\"      \"msleep10\"   \n",
              " [6] \"msleep5\"     \"mtcars\"      \"mtcars_data\" \"plants_data\" \"rivers\"     \n",
              "[11] \"sleepData\"   \"url\"        "
            ],
            "text/latex": "\\begin{enumerate*}\n\\item 'avgpm25'\n\\item 'awake\\_only'\n\\item 'filename'\n\\item 'msleep'\n\\item 'msleep10'\n\\item 'msleep5'\n\\item 'mtcars'\n\\item 'mtcars\\_data'\n\\item 'plants\\_data'\n\\item 'rivers'\n\\item 'sleepData'\n\\item 'url'\n\\end{enumerate*}\n",
            "text/markdown": "1. 'avgpm25'\n2. 'awake_only'\n3. 'filename'\n4. 'msleep'\n5. 'msleep10'\n6. 'msleep5'\n7. 'mtcars'\n8. 'mtcars_data'\n9. 'plants_data'\n10. 'rivers'\n11. 'sleepData'\n12. 'url'\n\n\n",
            "text/html": [
              "<style>\n",
              ".list-inline {list-style: none; margin:0; padding: 0}\n",
              ".list-inline>li {display: inline-block}\n",
              ".list-inline>li:not(:last-child)::after {content: \"\\00b7\"; padding: 0 .5ex}\n",
              "</style>\n",
              "<ol class=list-inline><li>'avgpm25'</li><li>'awake_only'</li><li>'filename'</li><li>'msleep'</li><li>'msleep10'</li><li>'msleep5'</li><li>'mtcars'</li><li>'mtcars_data'</li><li>'plants_data'</li><li>'rivers'</li><li>'sleepData'</li><li>'url'</li></ol>\n"
            ]
          },
          "metadata": {
            "tags": []
          }
        }
      ]
    },
    {
      "cell_type": "code",
      "metadata": {
        "id": "ZHoDRMwh2vtr"
      },
      "source": [
        "data()"
      ],
      "execution_count": 63,
      "outputs": []
    },
    {
      "cell_type": "code",
      "metadata": {
        "colab": {
          "base_uri": "https://localhost:8080/",
          "height": 68
        },
        "id": "TS7QpnN2UzQ5",
        "outputId": "6864d592-a40d-4cae-9b68-4460d1d8d53c"
      },
      "source": [
        "summary(rivers)\n",
        "sd(rivers)"
      ],
      "execution_count": 69,
      "outputs": [
        {
          "output_type": "display_data",
          "data": {
            "text/plain": [
              "   Min. 1st Qu.  Median    Mean 3rd Qu.    Max. \n",
              "  135.0   310.0   425.0   591.2   680.0  3710.0 "
            ]
          },
          "metadata": {
            "tags": []
          }
        },
        {
          "output_type": "display_data",
          "data": {
            "text/plain": [
              "[1] 493.8708"
            ],
            "text/latex": "493.87084203459",
            "text/markdown": "493.87084203459",
            "text/html": [
              "493.87084203459"
            ]
          },
          "metadata": {
            "tags": []
          }
        }
      ]
    },
    {
      "cell_type": "code",
      "metadata": {
        "colab": {
          "base_uri": "https://localhost:8080/",
          "height": 34
        },
        "id": "g8Lntls1VHXc",
        "outputId": "9afcf49c-6e2c-4d94-f0b0-0920d869a273"
      },
      "source": [
        "dim(rivers)"
      ],
      "execution_count": 66,
      "outputs": [
        {
          "output_type": "display_data",
          "data": {
            "text/plain": [
              "NULL"
            ]
          },
          "metadata": {
            "tags": []
          }
        }
      ]
    },
    {
      "cell_type": "code",
      "metadata": {
        "colab": {
          "base_uri": "https://localhost:8080/",
          "height": 51
        },
        "id": "pU6u1nQAXJC4",
        "outputId": "f51a348b-a583-4681-d6c9-09abaadd2bfd"
      },
      "source": [
        "getwd()\n",
        "dir()"
      ],
      "execution_count": 14,
      "outputs": [
        {
          "output_type": "display_data",
          "data": {
            "text/plain": [
              "[1] \"/content\""
            ],
            "text/latex": "'/content'",
            "text/markdown": "'/content'",
            "text/html": [
              "'/content'"
            ]
          },
          "metadata": {
            "tags": []
          }
        },
        {
          "output_type": "display_data",
          "data": {
            "text/plain": [
              "[1] \"avgpm25.csv\" \"sample_data\""
            ],
            "text/latex": "\\begin{enumerate*}\n\\item 'avgpm25.csv'\n\\item 'sample\\_data'\n\\end{enumerate*}\n",
            "text/markdown": "1. 'avgpm25.csv'\n2. 'sample_data'\n\n\n",
            "text/html": [
              "<style>\n",
              ".list-inline {list-style: none; margin:0; padding: 0}\n",
              ".list-inline>li {display: inline-block}\n",
              ".list-inline>li:not(:last-child)::after {content: \"\\00b7\"; padding: 0 .5ex}\n",
              "</style>\n",
              "<ol class=list-inline><li>'avgpm25.csv'</li><li>'sample_data'</li></ol>\n"
            ]
          },
          "metadata": {
            "tags": []
          }
        }
      ]
    },
    {
      "cell_type": "code",
      "metadata": {
        "colab": {
          "base_uri": "https://localhost:8080/",
          "height": 51
        },
        "id": "l-ofN6hoXZHC",
        "outputId": "ddf5afc2-a739-4d8f-9b44-9838e014d15c"
      },
      "source": [
        "avgpm25<-read.csv('avgpm25.csv')\n",
        "class(avgpm25)\n",
        "dim(avgpm25)"
      ],
      "execution_count": 16,
      "outputs": [
        {
          "output_type": "display_data",
          "data": {
            "text/plain": [
              "[1] \"data.frame\""
            ],
            "text/latex": "'data.frame'",
            "text/markdown": "'data.frame'",
            "text/html": [
              "'data.frame'"
            ]
          },
          "metadata": {
            "tags": []
          }
        },
        {
          "output_type": "display_data",
          "data": {
            "text/plain": [
              "[1] 576   5"
            ],
            "text/latex": "\\begin{enumerate*}\n\\item 576\n\\item 5\n\\end{enumerate*}\n",
            "text/markdown": "1. 576\n2. 5\n\n\n",
            "text/html": [
              "<style>\n",
              ".list-inline {list-style: none; margin:0; padding: 0}\n",
              ".list-inline>li {display: inline-block}\n",
              ".list-inline>li:not(:last-child)::after {content: \"\\00b7\"; padding: 0 .5ex}\n",
              "</style>\n",
              "<ol class=list-inline><li>576</li><li>5</li></ol>\n"
            ]
          },
          "metadata": {
            "tags": []
          }
        }
      ]
    },
    {
      "cell_type": "code",
      "metadata": {
        "colab": {
          "base_uri": "https://localhost:8080/",
          "height": 137
        },
        "id": "KJKOMO8UX4Fd",
        "outputId": "b9adedef-d817-4371-fbcd-581dc9730343"
      },
      "source": [
        "str(avgpm25)"
      ],
      "execution_count": 25,
      "outputs": [
        {
          "output_type": "stream",
          "text": [
            "'data.frame':\t576 obs. of  5 variables:\n",
            " $ pm25     : num  9.77 9.99 10.69 11.34 12.12 ...\n",
            " $ fips     : int  1003 1027 1033 1049 1055 1069 1073 1089 1097 1103 ...\n",
            " $ region   : chr  \"east\" \"east\" \"east\" \"east\" ...\n",
            " $ longitude: num  -87.7 -85.8 -87.7 -85.8 -86 ...\n",
            " $ latitude : num  30.6 33.3 34.7 34.5 34 ...\n"
          ],
          "name": "stdout"
        },
        {
          "output_type": "display_data",
          "data": {
            "text/plain": [
              "< table of extent 0 >"
            ]
          },
          "metadata": {
            "tags": []
          }
        }
      ]
    },
    {
      "cell_type": "code",
      "metadata": {
        "colab": {
          "base_uri": "https://localhost:8080/",
          "height": 642
        },
        "id": "260CnPn7YNxO",
        "outputId": "767df1c1-bcf2-4740-8c22-6ef619592bbd"
      },
      "source": [
        "nrow(avgpm25)\n",
        "ncol(avgpm25)\n",
        "object.size(avgpm25)\n",
        "names(avgpm25)\n",
        "head(avgpm25)\n",
        "summary(avgpm25)\n",
        "table(avgpm25$region)"
      ],
      "execution_count": 26,
      "outputs": [
        {
          "output_type": "display_data",
          "data": {
            "text/plain": [
              "[1] 576"
            ],
            "text/latex": "576",
            "text/markdown": "576",
            "text/html": [
              "576"
            ]
          },
          "metadata": {
            "tags": []
          }
        },
        {
          "output_type": "display_data",
          "data": {
            "text/plain": [
              "[1] 5"
            ],
            "text/latex": "5",
            "text/markdown": "5",
            "text/html": [
              "5"
            ]
          },
          "metadata": {
            "tags": []
          }
        },
        {
          "output_type": "display_data",
          "data": {
            "text/plain": [
              "22088 bytes"
            ]
          },
          "metadata": {
            "tags": []
          }
        },
        {
          "output_type": "display_data",
          "data": {
            "text/plain": [
              "[1] \"pm25\"      \"fips\"      \"region\"    \"longitude\" \"latitude\" "
            ],
            "text/latex": "\\begin{enumerate*}\n\\item 'pm25'\n\\item 'fips'\n\\item 'region'\n\\item 'longitude'\n\\item 'latitude'\n\\end{enumerate*}\n",
            "text/markdown": "1. 'pm25'\n2. 'fips'\n3. 'region'\n4. 'longitude'\n5. 'latitude'\n\n\n",
            "text/html": [
              "<style>\n",
              ".list-inline {list-style: none; margin:0; padding: 0}\n",
              ".list-inline>li {display: inline-block}\n",
              ".list-inline>li:not(:last-child)::after {content: \"\\00b7\"; padding: 0 .5ex}\n",
              "</style>\n",
              "<ol class=list-inline><li>'pm25'</li><li>'fips'</li><li>'region'</li><li>'longitude'</li><li>'latitude'</li></ol>\n"
            ]
          },
          "metadata": {
            "tags": []
          }
        },
        {
          "output_type": "display_data",
          "data": {
            "text/plain": [
              "  pm25      fips region longitude latitude\n",
              "1  9.771185 1003 east   -87.74826 30.59278\n",
              "2  9.993817 1027 east   -85.84286 33.26581\n",
              "3 10.688618 1033 east   -87.72596 34.73148\n",
              "4 11.337424 1049 east   -85.79892 34.45913\n",
              "5 12.119764 1055 east   -86.03212 34.01860\n",
              "6 10.827805 1069 east   -85.35039 31.18973"
            ],
            "text/latex": "A data.frame: 6 × 5\n\\begin{tabular}{r|lllll}\n  & pm25 & fips & region & longitude & latitude\\\\\n  & <dbl> & <int> & <chr> & <dbl> & <dbl>\\\\\n\\hline\n\t1 &  9.771185 & 1003 & east & -87.74826 & 30.59278\\\\\n\t2 &  9.993817 & 1027 & east & -85.84286 & 33.26581\\\\\n\t3 & 10.688618 & 1033 & east & -87.72596 & 34.73148\\\\\n\t4 & 11.337424 & 1049 & east & -85.79892 & 34.45913\\\\\n\t5 & 12.119764 & 1055 & east & -86.03212 & 34.01860\\\\\n\t6 & 10.827805 & 1069 & east & -85.35039 & 31.18973\\\\\n\\end{tabular}\n",
            "text/markdown": "\nA data.frame: 6 × 5\n\n| <!--/--> | pm25 &lt;dbl&gt; | fips &lt;int&gt; | region &lt;chr&gt; | longitude &lt;dbl&gt; | latitude &lt;dbl&gt; |\n|---|---|---|---|---|---|\n| 1 |  9.771185 | 1003 | east | -87.74826 | 30.59278 |\n| 2 |  9.993817 | 1027 | east | -85.84286 | 33.26581 |\n| 3 | 10.688618 | 1033 | east | -87.72596 | 34.73148 |\n| 4 | 11.337424 | 1049 | east | -85.79892 | 34.45913 |\n| 5 | 12.119764 | 1055 | east | -86.03212 | 34.01860 |\n| 6 | 10.827805 | 1069 | east | -85.35039 | 31.18973 |\n\n",
            "text/html": [
              "<table class=\"dataframe\">\n",
              "<caption>A data.frame: 6 × 5</caption>\n",
              "<thead>\n",
              "\t<tr><th></th><th scope=col>pm25</th><th scope=col>fips</th><th scope=col>region</th><th scope=col>longitude</th><th scope=col>latitude</th></tr>\n",
              "\t<tr><th></th><th scope=col>&lt;dbl&gt;</th><th scope=col>&lt;int&gt;</th><th scope=col>&lt;chr&gt;</th><th scope=col>&lt;dbl&gt;</th><th scope=col>&lt;dbl&gt;</th></tr>\n",
              "</thead>\n",
              "<tbody>\n",
              "\t<tr><th scope=row>1</th><td> 9.771185</td><td>1003</td><td>east</td><td>-87.74826</td><td>30.59278</td></tr>\n",
              "\t<tr><th scope=row>2</th><td> 9.993817</td><td>1027</td><td>east</td><td>-85.84286</td><td>33.26581</td></tr>\n",
              "\t<tr><th scope=row>3</th><td>10.688618</td><td>1033</td><td>east</td><td>-87.72596</td><td>34.73148</td></tr>\n",
              "\t<tr><th scope=row>4</th><td>11.337424</td><td>1049</td><td>east</td><td>-85.79892</td><td>34.45913</td></tr>\n",
              "\t<tr><th scope=row>5</th><td>12.119764</td><td>1055</td><td>east</td><td>-86.03212</td><td>34.01860</td></tr>\n",
              "\t<tr><th scope=row>6</th><td>10.827805</td><td>1069</td><td>east</td><td>-85.35039</td><td>31.18973</td></tr>\n",
              "</tbody>\n",
              "</table>\n"
            ]
          },
          "metadata": {
            "tags": []
          }
        },
        {
          "output_type": "display_data",
          "data": {
            "text/plain": [
              "      pm25             fips          region            longitude      \n",
              " Min.   : 3.383   Min.   : 1003   Length:576         Min.   :-158.04  \n",
              " 1st Qu.: 8.549   1st Qu.:16038   Class :character   1st Qu.: -97.38  \n",
              " Median :10.047   Median :28034   Mode  :character   Median : -87.37  \n",
              " Mean   : 9.836   Mean   :28431                      Mean   : -91.65  \n",
              " 3rd Qu.:11.356   3rd Qu.:41045                      3rd Qu.: -80.72  \n",
              " Max.   :18.441   Max.   :56039                      Max.   : -68.26  \n",
              "    latitude    \n",
              " Min.   :19.68  \n",
              " 1st Qu.:35.30  \n",
              " Median :39.09  \n",
              " Mean   :38.56  \n",
              " 3rd Qu.:41.75  \n",
              " Max.   :64.82  "
            ]
          },
          "metadata": {
            "tags": []
          }
        },
        {
          "output_type": "display_data",
          "data": {
            "text/plain": [
              "\n",
              "east west \n",
              " 442  134 "
            ]
          },
          "metadata": {
            "tags": []
          }
        }
      ]
    },
    {
      "cell_type": "code",
      "metadata": {
        "colab": {
          "base_uri": "https://localhost:8080/"
        },
        "id": "tkGULXV2pa_A",
        "outputId": "2a2c2544-dd36-458d-e8f6-d94b96cf65be"
      },
      "source": [
        "install.packages('downloader')"
      ],
      "execution_count": 31,
      "outputs": [
        {
          "output_type": "stream",
          "text": [
            "Installing package into ‘/usr/local/lib/R/site-library’\n",
            "(as ‘lib’ is unspecified)\n",
            "\n"
          ],
          "name": "stderr"
        }
      ]
    },
    {
      "cell_type": "code",
      "metadata": {
        "id": "R10FH6lnp-lS"
      },
      "source": [
        "library(downloader)\n"
      ],
      "execution_count": 32,
      "outputs": []
    },
    {
      "cell_type": "code",
      "metadata": {
        "id": "JqndY0NnqI23"
      },
      "source": [
        "url <- \"https://raw.githubusercontent.com/genomicsclass/dagdata/master/inst/extdata/msleep_ggplot2.csv\"\n",
        "filename <- \"msleep_ggplot2.csv\"\n",
        "if (!file.exists(filename)) download(url,filename)\n",
        "msleep <- read.csv(\"msleep_ggplot2.csv\")"
      ],
      "execution_count": 41,
      "outputs": []
    },
    {
      "cell_type": "code",
      "metadata": {
        "colab": {
          "base_uri": "https://localhost:8080/",
          "height": 34
        },
        "id": "mz8mjbhxrWdZ",
        "outputId": "b9417ebf-0ca0-4eb9-dd12-790a704246fb"
      },
      "source": [
        "names(msleep)"
      ],
      "execution_count": 34,
      "outputs": [
        {
          "output_type": "display_data",
          "data": {
            "text/plain": [
              " [1] \"name\"         \"genus\"        \"vore\"         \"order\"        \"conservation\"\n",
              " [6] \"sleep_total\"  \"sleep_rem\"    \"sleep_cycle\"  \"awake\"        \"brainwt\"     \n",
              "[11] \"bodywt\"      "
            ],
            "text/latex": "\\begin{enumerate*}\n\\item 'name'\n\\item 'genus'\n\\item 'vore'\n\\item 'order'\n\\item 'conservation'\n\\item 'sleep\\_total'\n\\item 'sleep\\_rem'\n\\item 'sleep\\_cycle'\n\\item 'awake'\n\\item 'brainwt'\n\\item 'bodywt'\n\\end{enumerate*}\n",
            "text/markdown": "1. 'name'\n2. 'genus'\n3. 'vore'\n4. 'order'\n5. 'conservation'\n6. 'sleep_total'\n7. 'sleep_rem'\n8. 'sleep_cycle'\n9. 'awake'\n10. 'brainwt'\n11. 'bodywt'\n\n\n",
            "text/html": [
              "<style>\n",
              ".list-inline {list-style: none; margin:0; padding: 0}\n",
              ".list-inline>li {display: inline-block}\n",
              ".list-inline>li:not(:last-child)::after {content: \"\\00b7\"; padding: 0 .5ex}\n",
              "</style>\n",
              "<ol class=list-inline><li>'name'</li><li>'genus'</li><li>'vore'</li><li>'order'</li><li>'conservation'</li><li>'sleep_total'</li><li>'sleep_rem'</li><li>'sleep_cycle'</li><li>'awake'</li><li>'brainwt'</li><li>'bodywt'</li></ol>\n"
            ]
          },
          "metadata": {
            "tags": []
          }
        }
      ]
    },
    {
      "cell_type": "code",
      "metadata": {
        "colab": {
          "base_uri": "https://localhost:8080/",
          "height": 299
        },
        "id": "SQK8xbWqwI6R",
        "outputId": "9d616400-4988-4f4f-8a38-9bfd628c16be"
      },
      "source": [
        "head(msleep,2)\n",
        "tail(msleep,2)"
      ],
      "execution_count": 43,
      "outputs": [
        {
          "output_type": "display_data",
          "data": {
            "text/plain": [
              "  name       genus    vore  order     conservation sleep_total sleep_rem\n",
              "1 Cheetah    Acinonyx carni Carnivora lc           12.1         NA      \n",
              "2 Owl monkey Aotus    omni  Primates  NA           17.0        1.8      \n",
              "  sleep_cycle awake brainwt bodywt\n",
              "1 NA          11.9      NA  50.00 \n",
              "2 NA           7.0  0.0155   0.48 "
            ],
            "text/latex": "A data.frame: 2 × 11\n\\begin{tabular}{r|lllllllllll}\n  & name & genus & vore & order & conservation & sleep\\_total & sleep\\_rem & sleep\\_cycle & awake & brainwt & bodywt\\\\\n  & <chr> & <chr> & <chr> & <chr> & <chr> & <dbl> & <dbl> & <dbl> & <dbl> & <dbl> & <dbl>\\\\\n\\hline\n\t1 & Cheetah    & Acinonyx & carni & Carnivora & lc & 12.1 &  NA & NA & 11.9 &     NA & 50.00\\\\\n\t2 & Owl monkey & Aotus    & omni  & Primates  & NA & 17.0 & 1.8 & NA &  7.0 & 0.0155 &  0.48\\\\\n\\end{tabular}\n",
            "text/markdown": "\nA data.frame: 2 × 11\n\n| <!--/--> | name &lt;chr&gt; | genus &lt;chr&gt; | vore &lt;chr&gt; | order &lt;chr&gt; | conservation &lt;chr&gt; | sleep_total &lt;dbl&gt; | sleep_rem &lt;dbl&gt; | sleep_cycle &lt;dbl&gt; | awake &lt;dbl&gt; | brainwt &lt;dbl&gt; | bodywt &lt;dbl&gt; |\n|---|---|---|---|---|---|---|---|---|---|---|---|\n| 1 | Cheetah    | Acinonyx | carni | Carnivora | lc | 12.1 |  NA | NA | 11.9 |     NA | 50.00 |\n| 2 | Owl monkey | Aotus    | omni  | Primates  | NA | 17.0 | 1.8 | NA |  7.0 | 0.0155 |  0.48 |\n\n",
            "text/html": [
              "<table class=\"dataframe\">\n",
              "<caption>A data.frame: 2 × 11</caption>\n",
              "<thead>\n",
              "\t<tr><th></th><th scope=col>name</th><th scope=col>genus</th><th scope=col>vore</th><th scope=col>order</th><th scope=col>conservation</th><th scope=col>sleep_total</th><th scope=col>sleep_rem</th><th scope=col>sleep_cycle</th><th scope=col>awake</th><th scope=col>brainwt</th><th scope=col>bodywt</th></tr>\n",
              "\t<tr><th></th><th scope=col>&lt;chr&gt;</th><th scope=col>&lt;chr&gt;</th><th scope=col>&lt;chr&gt;</th><th scope=col>&lt;chr&gt;</th><th scope=col>&lt;chr&gt;</th><th scope=col>&lt;dbl&gt;</th><th scope=col>&lt;dbl&gt;</th><th scope=col>&lt;dbl&gt;</th><th scope=col>&lt;dbl&gt;</th><th scope=col>&lt;dbl&gt;</th><th scope=col>&lt;dbl&gt;</th></tr>\n",
              "</thead>\n",
              "<tbody>\n",
              "\t<tr><th scope=row>1</th><td>Cheetah   </td><td>Acinonyx</td><td>carni</td><td>Carnivora</td><td>lc</td><td>12.1</td><td> NA</td><td>NA</td><td>11.9</td><td>    NA</td><td>50.00</td></tr>\n",
              "\t<tr><th scope=row>2</th><td>Owl monkey</td><td>Aotus   </td><td>omni </td><td>Primates </td><td>NA</td><td>17.0</td><td>1.8</td><td>NA</td><td> 7.0</td><td>0.0155</td><td> 0.48</td></tr>\n",
              "</tbody>\n",
              "</table>\n"
            ]
          },
          "metadata": {
            "tags": []
          }
        },
        {
          "output_type": "display_data",
          "data": {
            "text/plain": [
              "   name       genus  vore  order     conservation sleep_total sleep_rem\n",
              "82 Arctic fox Vulpes carni Carnivora NA           12.5         NA      \n",
              "83 Red fox    Vulpes carni Carnivora NA            9.8        2.4      \n",
              "   sleep_cycle awake brainwt bodywt\n",
              "82   NA        11.5  0.0445  3.38  \n",
              "83 0.35        14.2  0.0504  4.23  "
            ],
            "text/latex": "A data.frame: 2 × 11\n\\begin{tabular}{r|lllllllllll}\n  & name & genus & vore & order & conservation & sleep\\_total & sleep\\_rem & sleep\\_cycle & awake & brainwt & bodywt\\\\\n  & <chr> & <chr> & <chr> & <chr> & <chr> & <dbl> & <dbl> & <dbl> & <dbl> & <dbl> & <dbl>\\\\\n\\hline\n\t82 & Arctic fox & Vulpes & carni & Carnivora & NA & 12.5 &  NA &   NA & 11.5 & 0.0445 & 3.38\\\\\n\t83 & Red fox    & Vulpes & carni & Carnivora & NA &  9.8 & 2.4 & 0.35 & 14.2 & 0.0504 & 4.23\\\\\n\\end{tabular}\n",
            "text/markdown": "\nA data.frame: 2 × 11\n\n| <!--/--> | name &lt;chr&gt; | genus &lt;chr&gt; | vore &lt;chr&gt; | order &lt;chr&gt; | conservation &lt;chr&gt; | sleep_total &lt;dbl&gt; | sleep_rem &lt;dbl&gt; | sleep_cycle &lt;dbl&gt; | awake &lt;dbl&gt; | brainwt &lt;dbl&gt; | bodywt &lt;dbl&gt; |\n|---|---|---|---|---|---|---|---|---|---|---|---|\n| 82 | Arctic fox | Vulpes | carni | Carnivora | NA | 12.5 |  NA |   NA | 11.5 | 0.0445 | 3.38 |\n| 83 | Red fox    | Vulpes | carni | Carnivora | NA |  9.8 | 2.4 | 0.35 | 14.2 | 0.0504 | 4.23 |\n\n",
            "text/html": [
              "<table class=\"dataframe\">\n",
              "<caption>A data.frame: 2 × 11</caption>\n",
              "<thead>\n",
              "\t<tr><th></th><th scope=col>name</th><th scope=col>genus</th><th scope=col>vore</th><th scope=col>order</th><th scope=col>conservation</th><th scope=col>sleep_total</th><th scope=col>sleep_rem</th><th scope=col>sleep_cycle</th><th scope=col>awake</th><th scope=col>brainwt</th><th scope=col>bodywt</th></tr>\n",
              "\t<tr><th></th><th scope=col>&lt;chr&gt;</th><th scope=col>&lt;chr&gt;</th><th scope=col>&lt;chr&gt;</th><th scope=col>&lt;chr&gt;</th><th scope=col>&lt;chr&gt;</th><th scope=col>&lt;dbl&gt;</th><th scope=col>&lt;dbl&gt;</th><th scope=col>&lt;dbl&gt;</th><th scope=col>&lt;dbl&gt;</th><th scope=col>&lt;dbl&gt;</th><th scope=col>&lt;dbl&gt;</th></tr>\n",
              "</thead>\n",
              "<tbody>\n",
              "\t<tr><th scope=row>82</th><td>Arctic fox</td><td>Vulpes</td><td>carni</td><td>Carnivora</td><td>NA</td><td>12.5</td><td> NA</td><td>  NA</td><td>11.5</td><td>0.0445</td><td>3.38</td></tr>\n",
              "\t<tr><th scope=row>83</th><td>Red fox   </td><td>Vulpes</td><td>carni</td><td>Carnivora</td><td>NA</td><td> 9.8</td><td>2.4</td><td>0.35</td><td>14.2</td><td>0.0504</td><td>4.23</td></tr>\n",
              "</tbody>\n",
              "</table>\n"
            ]
          },
          "metadata": {
            "tags": []
          }
        }
      ]
    },
    {
      "cell_type": "code",
      "metadata": {
        "colab": {
          "base_uri": "https://localhost:8080/"
        },
        "id": "AN5R0gdyw1zu",
        "outputId": "633752a9-f863-43b4-ebe3-e1e87528dee6"
      },
      "source": [
        "str(msleep)"
      ],
      "execution_count": 44,
      "outputs": [
        {
          "output_type": "stream",
          "text": [
            "'data.frame':\t83 obs. of  11 variables:\n",
            " $ name        : chr  \"Cheetah\" \"Owl monkey\" \"Mountain beaver\" \"Greater short-tailed shrew\" ...\n",
            " $ genus       : chr  \"Acinonyx\" \"Aotus\" \"Aplodontia\" \"Blarina\" ...\n",
            " $ vore        : chr  \"carni\" \"omni\" \"herbi\" \"omni\" ...\n",
            " $ order       : chr  \"Carnivora\" \"Primates\" \"Rodentia\" \"Soricomorpha\" ...\n",
            " $ conservation: chr  \"lc\" NA \"nt\" \"lc\" ...\n",
            " $ sleep_total : num  12.1 17 14.4 14.9 4 14.4 8.7 7 10.1 3 ...\n",
            " $ sleep_rem   : num  NA 1.8 2.4 2.3 0.7 2.2 1.4 NA 2.9 NA ...\n",
            " $ sleep_cycle : num  NA NA NA 0.133 0.667 ...\n",
            " $ awake       : num  11.9 7 9.6 9.1 20 9.6 15.3 17 13.9 21 ...\n",
            " $ brainwt     : num  NA 0.0155 NA 0.00029 0.423 NA NA NA 0.07 0.0982 ...\n",
            " $ bodywt      : num  50 0.48 1.35 0.019 600 ...\n"
          ],
          "name": "stdout"
        }
      ]
    },
    {
      "cell_type": "code",
      "metadata": {
        "colab": {
          "base_uri": "https://localhost:8080/",
          "height": 120
        },
        "id": "Hq7KUfg1xJdu",
        "outputId": "82277a8a-b115-4d12-ea19-69306dd1111a"
      },
      "source": [
        "awake_only<-msleep$awake\n",
        "head(awake_only,20)\n",
        "summary(msleep$awake)\n",
        "table(msleep$conservation)"
      ],
      "execution_count": 49,
      "outputs": [
        {
          "output_type": "display_data",
          "data": {
            "text/plain": [
              " [1] 11.9  7.0  9.6  9.1 20.0  9.6 15.3 17.0 13.9 21.0 18.7 14.6 14.0 11.5 13.7\n",
              "[16] 15.7 14.9  6.6 18.7  6.0"
            ],
            "text/latex": "\\begin{enumerate*}\n\\item 11.9\n\\item 7\n\\item 9.6\n\\item 9.1\n\\item 20\n\\item 9.6\n\\item 15.3\n\\item 17\n\\item 13.9\n\\item 21\n\\item 18.7\n\\item 14.6\n\\item 14\n\\item 11.5\n\\item 13.7\n\\item 15.7\n\\item 14.9\n\\item 6.6\n\\item 18.7\n\\item 6\n\\end{enumerate*}\n",
            "text/markdown": "1. 11.9\n2. 7\n3. 9.6\n4. 9.1\n5. 20\n6. 9.6\n7. 15.3\n8. 17\n9. 13.9\n10. 21\n11. 18.7\n12. 14.6\n13. 14\n14. 11.5\n15. 13.7\n16. 15.7\n17. 14.9\n18. 6.6\n19. 18.7\n20. 6\n\n\n",
            "text/html": [
              "<style>\n",
              ".list-inline {list-style: none; margin:0; padding: 0}\n",
              ".list-inline>li {display: inline-block}\n",
              ".list-inline>li:not(:last-child)::after {content: \"\\00b7\"; padding: 0 .5ex}\n",
              "</style>\n",
              "<ol class=list-inline><li>11.9</li><li>7</li><li>9.6</li><li>9.1</li><li>20</li><li>9.6</li><li>15.3</li><li>17</li><li>13.9</li><li>21</li><li>18.7</li><li>14.6</li><li>14</li><li>11.5</li><li>13.7</li><li>15.7</li><li>14.9</li><li>6.6</li><li>18.7</li><li>6</li></ol>\n"
            ]
          },
          "metadata": {
            "tags": []
          }
        },
        {
          "output_type": "display_data",
          "data": {
            "text/plain": [
              "   Min. 1st Qu.  Median    Mean 3rd Qu.    Max. \n",
              "   4.10   10.25   13.90   13.57   16.15   22.10 "
            ]
          },
          "metadata": {
            "tags": []
          }
        },
        {
          "output_type": "display_data",
          "data": {
            "text/plain": [
              "\n",
              "          cd domesticated           en           lc           nt           vu \n",
              "           2           10            4           27            4            7 "
            ]
          },
          "metadata": {
            "tags": []
          }
        }
      ]
    },
    {
      "cell_type": "code",
      "metadata": {
        "colab": {
          "base_uri": "https://localhost:8080/",
          "height": 428
        },
        "id": "v1wetJ49zxg_",
        "outputId": "dc2e3a77-745c-4da3-ce00-b099b0e9d50d"
      },
      "source": [
        "summary(msleep)"
      ],
      "execution_count": 50,
      "outputs": [
        {
          "output_type": "display_data",
          "data": {
            "text/plain": [
              "     name              genus               vore              order          \n",
              " Length:83          Length:83          Length:83          Length:83         \n",
              " Class :character   Class :character   Class :character   Class :character  \n",
              " Mode  :character   Mode  :character   Mode  :character   Mode  :character  \n",
              "                                                                            \n",
              "                                                                            \n",
              "                                                                            \n",
              "                                                                            \n",
              " conservation        sleep_total      sleep_rem      sleep_cycle    \n",
              " Length:83          Min.   : 1.90   Min.   :0.100   Min.   :0.1167  \n",
              " Class :character   1st Qu.: 7.85   1st Qu.:0.900   1st Qu.:0.1833  \n",
              " Mode  :character   Median :10.10   Median :1.500   Median :0.3333  \n",
              "                    Mean   :10.43   Mean   :1.875   Mean   :0.4396  \n",
              "                    3rd Qu.:13.75   3rd Qu.:2.400   3rd Qu.:0.5792  \n",
              "                    Max.   :19.90   Max.   :6.600   Max.   :1.5000  \n",
              "                                    NA's   :22      NA's   :51      \n",
              "     awake          brainwt            bodywt        \n",
              " Min.   : 4.10   Min.   :0.00014   Min.   :   0.005  \n",
              " 1st Qu.:10.25   1st Qu.:0.00290   1st Qu.:   0.174  \n",
              " Median :13.90   Median :0.01240   Median :   1.670  \n",
              " Mean   :13.57   Mean   :0.28158   Mean   : 166.136  \n",
              " 3rd Qu.:16.15   3rd Qu.:0.12550   3rd Qu.:  41.750  \n",
              " Max.   :22.10   Max.   :5.71200   Max.   :6654.000  \n",
              "                 NA's   :27                          "
            ]
          },
          "metadata": {
            "tags": []
          }
        }
      ]
    },
    {
      "cell_type": "code",
      "metadata": {
        "id": "ZFKHbz4M0HCH"
      },
      "source": [
        "msleep10 <- select(msleep, -sleep_cycle)"
      ],
      "execution_count": 54,
      "outputs": []
    },
    {
      "cell_type": "code",
      "metadata": {
        "colab": {
          "base_uri": "https://localhost:8080/",
          "height": 51
        },
        "id": "Dpt_AQX001Pv",
        "outputId": "8d38b909-cfe1-4f88-abd8-4e0fc59e95dd"
      },
      "source": [
        "dim(msleep10)\n",
        "names(msleep10)"
      ],
      "execution_count": 56,
      "outputs": [
        {
          "output_type": "display_data",
          "data": {
            "text/plain": [
              "[1] 83 10"
            ],
            "text/latex": "\\begin{enumerate*}\n\\item 83\n\\item 10\n\\end{enumerate*}\n",
            "text/markdown": "1. 83\n2. 10\n\n\n",
            "text/html": [
              "<style>\n",
              ".list-inline {list-style: none; margin:0; padding: 0}\n",
              ".list-inline>li {display: inline-block}\n",
              ".list-inline>li:not(:last-child)::after {content: \"\\00b7\"; padding: 0 .5ex}\n",
              "</style>\n",
              "<ol class=list-inline><li>83</li><li>10</li></ol>\n"
            ]
          },
          "metadata": {
            "tags": []
          }
        },
        {
          "output_type": "display_data",
          "data": {
            "text/plain": [
              " [1] \"name\"         \"genus\"        \"vore\"         \"order\"        \"conservation\"\n",
              " [6] \"sleep_total\"  \"sleep_rem\"    \"awake\"        \"brainwt\"      \"bodywt\"      "
            ],
            "text/latex": "\\begin{enumerate*}\n\\item 'name'\n\\item 'genus'\n\\item 'vore'\n\\item 'order'\n\\item 'conservation'\n\\item 'sleep\\_total'\n\\item 'sleep\\_rem'\n\\item 'awake'\n\\item 'brainwt'\n\\item 'bodywt'\n\\end{enumerate*}\n",
            "text/markdown": "1. 'name'\n2. 'genus'\n3. 'vore'\n4. 'order'\n5. 'conservation'\n6. 'sleep_total'\n7. 'sleep_rem'\n8. 'awake'\n9. 'brainwt'\n10. 'bodywt'\n\n\n",
            "text/html": [
              "<style>\n",
              ".list-inline {list-style: none; margin:0; padding: 0}\n",
              ".list-inline>li {display: inline-block}\n",
              ".list-inline>li:not(:last-child)::after {content: \"\\00b7\"; padding: 0 .5ex}\n",
              "</style>\n",
              "<ol class=list-inline><li>'name'</li><li>'genus'</li><li>'vore'</li><li>'order'</li><li>'conservation'</li><li>'sleep_total'</li><li>'sleep_rem'</li><li>'awake'</li><li>'brainwt'</li><li>'bodywt'</li></ol>\n"
            ]
          },
          "metadata": {
            "tags": []
          }
        }
      ]
    },
    {
      "cell_type": "code",
      "metadata": {
        "id": "KDqy9AoI1JRl"
      },
      "source": [
        "msleep5 <- select(msleep, -c('name','genus','vore','order','conservation','sleep_cycle'))"
      ],
      "execution_count": 58,
      "outputs": []
    },
    {
      "cell_type": "code",
      "metadata": {
        "colab": {
          "base_uri": "https://localhost:8080/",
          "height": 51
        },
        "id": "yR62TIL81azP",
        "outputId": "8dfeacc7-d757-46e8-ccae-474d941b9e8a"
      },
      "source": [
        "dim(msleep5)\n",
        "names(msleep5)"
      ],
      "execution_count": 62,
      "outputs": [
        {
          "output_type": "display_data",
          "data": {
            "text/plain": [
              "[1] 83  5"
            ],
            "text/latex": "\\begin{enumerate*}\n\\item 83\n\\item 5\n\\end{enumerate*}\n",
            "text/markdown": "1. 83\n2. 5\n\n\n",
            "text/html": [
              "<style>\n",
              ".list-inline {list-style: none; margin:0; padding: 0}\n",
              ".list-inline>li {display: inline-block}\n",
              ".list-inline>li:not(:last-child)::after {content: \"\\00b7\"; padding: 0 .5ex}\n",
              "</style>\n",
              "<ol class=list-inline><li>83</li><li>5</li></ol>\n"
            ]
          },
          "metadata": {
            "tags": []
          }
        },
        {
          "output_type": "display_data",
          "data": {
            "text/plain": [
              "[1] \"sleep_total\" \"sleep_rem\"   \"awake\"       \"brainwt\"     \"bodywt\"     "
            ],
            "text/latex": "\\begin{enumerate*}\n\\item 'sleep\\_total'\n\\item 'sleep\\_rem'\n\\item 'awake'\n\\item 'brainwt'\n\\item 'bodywt'\n\\end{enumerate*}\n",
            "text/markdown": "1. 'sleep_total'\n2. 'sleep_rem'\n3. 'awake'\n4. 'brainwt'\n5. 'bodywt'\n\n\n",
            "text/html": [
              "<style>\n",
              ".list-inline {list-style: none; margin:0; padding: 0}\n",
              ".list-inline>li {display: inline-block}\n",
              ".list-inline>li:not(:last-child)::after {content: \"\\00b7\"; padding: 0 .5ex}\n",
              "</style>\n",
              "<ol class=list-inline><li>'sleep_total'</li><li>'sleep_rem'</li><li>'awake'</li><li>'brainwt'</li><li>'bodywt'</li></ol>\n"
            ]
          },
          "metadata": {
            "tags": []
          }
        }
      ]
    },
    {
      "cell_type": "code",
      "metadata": {
        "id": "Zv0D607Vrany"
      },
      "source": [
        "sleepData <- select(msleep, name, sleep_total)"
      ],
      "execution_count": 35,
      "outputs": []
    },
    {
      "cell_type": "code",
      "metadata": {
        "colab": {
          "base_uri": "https://localhost:8080/"
        },
        "id": "vwIKfTSdrgqu",
        "outputId": "34f94228-502a-4c76-f9c6-d43328a322f3"
      },
      "source": [
        "str(msleep)"
      ],
      "execution_count": 37,
      "outputs": [
        {
          "output_type": "stream",
          "text": [
            "'data.frame':\t83 obs. of  11 variables:\n",
            " $ name        : chr  \"Cheetah\" \"Owl monkey\" \"Mountain beaver\" \"Greater short-tailed shrew\" ...\n",
            " $ genus       : chr  \"Acinonyx\" \"Aotus\" \"Aplodontia\" \"Blarina\" ...\n",
            " $ vore        : chr  \"carni\" \"omni\" \"herbi\" \"omni\" ...\n",
            " $ order       : chr  \"Carnivora\" \"Primates\" \"Rodentia\" \"Soricomorpha\" ...\n",
            " $ conservation: chr  \"lc\" NA \"nt\" \"lc\" ...\n",
            " $ sleep_total : num  12.1 17 14.4 14.9 4 14.4 8.7 7 10.1 3 ...\n",
            " $ sleep_rem   : num  NA 1.8 2.4 2.3 0.7 2.2 1.4 NA 2.9 NA ...\n",
            " $ sleep_cycle : num  NA NA NA 0.133 0.667 ...\n",
            " $ awake       : num  11.9 7 9.6 9.1 20 9.6 15.3 17 13.9 21 ...\n",
            " $ brainwt     : num  NA 0.0155 NA 0.00029 0.423 NA NA NA 0.07 0.0982 ...\n",
            " $ bodywt      : num  50 0.48 1.35 0.019 600 ...\n",
            "'data.frame':\t83 obs. of  2 variables:\n",
            " $ name       : chr  \"Cheetah\" \"Owl monkey\" \"Mountain beaver\" \"Greater short-tailed shrew\" ...\n",
            " $ sleep_total: num  12.1 17 14.4 14.9 4 14.4 8.7 7 10.1 3 ...\n"
          ],
          "name": "stdout"
        }
      ]
    },
    {
      "cell_type": "code",
      "metadata": {
        "colab": {
          "base_uri": "https://localhost:8080/"
        },
        "id": "rgYhluojrti8",
        "outputId": "b1430cce-4b55-41ce-e7b9-cf3276b7e5cf"
      },
      "source": [
        "str(sleepData)"
      ],
      "execution_count": 38,
      "outputs": [
        {
          "output_type": "stream",
          "text": [
            "'data.frame':\t83 obs. of  2 variables:\n",
            " $ name       : chr  \"Cheetah\" \"Owl monkey\" \"Mountain beaver\" \"Greater short-tailed shrew\" ...\n",
            " $ sleep_total: num  12.1 17 14.4 14.9 4 14.4 8.7 7 10.1 3 ...\n"
          ],
          "name": "stdout"
        }
      ]
    },
    {
      "cell_type": "code",
      "metadata": {
        "colab": {
          "base_uri": "https://localhost:8080/",
          "height": 282
        },
        "id": "BF6rmbTHrv5_",
        "outputId": "e78d1dd1-ad40-42e4-fc61-e85ec84a1250"
      },
      "source": [
        "head(select(msleep, -c('name','bodywt','vore')))"
      ],
      "execution_count": 40,
      "outputs": [
        {
          "output_type": "display_data",
          "data": {
            "text/plain": [
              "  genus      order        conservation sleep_total sleep_rem sleep_cycle awake\n",
              "1 Acinonyx   Carnivora    lc           12.1         NA              NA   11.9 \n",
              "2 Aotus      Primates     NA           17.0        1.8              NA    7.0 \n",
              "3 Aplodontia Rodentia     nt           14.4        2.4              NA    9.6 \n",
              "4 Blarina    Soricomorpha lc           14.9        2.3       0.1333333    9.1 \n",
              "5 Bos        Artiodactyla domesticated  4.0        0.7       0.6666667   20.0 \n",
              "6 Bradypus   Pilosa       NA           14.4        2.2       0.7666667    9.6 \n",
              "  brainwt\n",
              "1      NA\n",
              "2 0.01550\n",
              "3      NA\n",
              "4 0.00029\n",
              "5 0.42300\n",
              "6      NA"
            ],
            "text/latex": "A data.frame: 6 × 8\n\\begin{tabular}{r|llllllll}\n  & genus & order & conservation & sleep\\_total & sleep\\_rem & sleep\\_cycle & awake & brainwt\\\\\n  & <chr> & <chr> & <chr> & <dbl> & <dbl> & <dbl> & <dbl> & <dbl>\\\\\n\\hline\n\t1 & Acinonyx   & Carnivora    & lc           & 12.1 &  NA &        NA & 11.9 &      NA\\\\\n\t2 & Aotus      & Primates     & NA           & 17.0 & 1.8 &        NA &  7.0 & 0.01550\\\\\n\t3 & Aplodontia & Rodentia     & nt           & 14.4 & 2.4 &        NA &  9.6 &      NA\\\\\n\t4 & Blarina    & Soricomorpha & lc           & 14.9 & 2.3 & 0.1333333 &  9.1 & 0.00029\\\\\n\t5 & Bos        & Artiodactyla & domesticated &  4.0 & 0.7 & 0.6666667 & 20.0 & 0.42300\\\\\n\t6 & Bradypus   & Pilosa       & NA           & 14.4 & 2.2 & 0.7666667 &  9.6 &      NA\\\\\n\\end{tabular}\n",
            "text/markdown": "\nA data.frame: 6 × 8\n\n| <!--/--> | genus &lt;chr&gt; | order &lt;chr&gt; | conservation &lt;chr&gt; | sleep_total &lt;dbl&gt; | sleep_rem &lt;dbl&gt; | sleep_cycle &lt;dbl&gt; | awake &lt;dbl&gt; | brainwt &lt;dbl&gt; |\n|---|---|---|---|---|---|---|---|---|\n| 1 | Acinonyx   | Carnivora    | lc           | 12.1 |  NA |        NA | 11.9 |      NA |\n| 2 | Aotus      | Primates     | NA           | 17.0 | 1.8 |        NA |  7.0 | 0.01550 |\n| 3 | Aplodontia | Rodentia     | nt           | 14.4 | 2.4 |        NA |  9.6 |      NA |\n| 4 | Blarina    | Soricomorpha | lc           | 14.9 | 2.3 | 0.1333333 |  9.1 | 0.00029 |\n| 5 | Bos        | Artiodactyla | domesticated |  4.0 | 0.7 | 0.6666667 | 20.0 | 0.42300 |\n| 6 | Bradypus   | Pilosa       | NA           | 14.4 | 2.2 | 0.7666667 |  9.6 |      NA |\n\n",
            "text/html": [
              "<table class=\"dataframe\">\n",
              "<caption>A data.frame: 6 × 8</caption>\n",
              "<thead>\n",
              "\t<tr><th></th><th scope=col>genus</th><th scope=col>order</th><th scope=col>conservation</th><th scope=col>sleep_total</th><th scope=col>sleep_rem</th><th scope=col>sleep_cycle</th><th scope=col>awake</th><th scope=col>brainwt</th></tr>\n",
              "\t<tr><th></th><th scope=col>&lt;chr&gt;</th><th scope=col>&lt;chr&gt;</th><th scope=col>&lt;chr&gt;</th><th scope=col>&lt;dbl&gt;</th><th scope=col>&lt;dbl&gt;</th><th scope=col>&lt;dbl&gt;</th><th scope=col>&lt;dbl&gt;</th><th scope=col>&lt;dbl&gt;</th></tr>\n",
              "</thead>\n",
              "<tbody>\n",
              "\t<tr><th scope=row>1</th><td>Acinonyx  </td><td>Carnivora   </td><td>lc          </td><td>12.1</td><td> NA</td><td>       NA</td><td>11.9</td><td>     NA</td></tr>\n",
              "\t<tr><th scope=row>2</th><td>Aotus     </td><td>Primates    </td><td>NA          </td><td>17.0</td><td>1.8</td><td>       NA</td><td> 7.0</td><td>0.01550</td></tr>\n",
              "\t<tr><th scope=row>3</th><td>Aplodontia</td><td>Rodentia    </td><td>nt          </td><td>14.4</td><td>2.4</td><td>       NA</td><td> 9.6</td><td>     NA</td></tr>\n",
              "\t<tr><th scope=row>4</th><td>Blarina   </td><td>Soricomorpha</td><td>lc          </td><td>14.9</td><td>2.3</td><td>0.1333333</td><td> 9.1</td><td>0.00029</td></tr>\n",
              "\t<tr><th scope=row>5</th><td>Bos       </td><td>Artiodactyla</td><td>domesticated</td><td> 4.0</td><td>0.7</td><td>0.6666667</td><td>20.0</td><td>0.42300</td></tr>\n",
              "\t<tr><th scope=row>6</th><td>Bradypus  </td><td>Pilosa      </td><td>NA          </td><td>14.4</td><td>2.2</td><td>0.7666667</td><td> 9.6</td><td>     NA</td></tr>\n",
              "</tbody>\n",
              "</table>\n"
            ]
          },
          "metadata": {
            "tags": []
          }
        }
      ]
    },
    {
      "cell_type": "code",
      "metadata": {
        "colab": {
          "base_uri": "https://localhost:8080/",
          "height": 68
        },
        "id": "rS-mw-Wo6I2m",
        "outputId": "9994e375-a640-41a4-a325-17442d6da898"
      },
      "source": [
        "ls()\n",
        "summary(avgpm25$pm25)"
      ],
      "execution_count": 74,
      "outputs": [
        {
          "output_type": "display_data",
          "data": {
            "text/plain": [
              " [1] \"avgpm25\"     \"awake_only\"  \"filename\"    \"msleep\"      \"msleep10\"   \n",
              " [6] \"msleep5\"     \"mtcars\"      \"mtcars_data\" \"plants_data\" \"rivers\"     \n",
              "[11] \"sleepData\"   \"url\"        "
            ],
            "text/latex": "\\begin{enumerate*}\n\\item 'avgpm25'\n\\item 'awake\\_only'\n\\item 'filename'\n\\item 'msleep'\n\\item 'msleep10'\n\\item 'msleep5'\n\\item 'mtcars'\n\\item 'mtcars\\_data'\n\\item 'plants\\_data'\n\\item 'rivers'\n\\item 'sleepData'\n\\item 'url'\n\\end{enumerate*}\n",
            "text/markdown": "1. 'avgpm25'\n2. 'awake_only'\n3. 'filename'\n4. 'msleep'\n5. 'msleep10'\n6. 'msleep5'\n7. 'mtcars'\n8. 'mtcars_data'\n9. 'plants_data'\n10. 'rivers'\n11. 'sleepData'\n12. 'url'\n\n\n",
            "text/html": [
              "<style>\n",
              ".list-inline {list-style: none; margin:0; padding: 0}\n",
              ".list-inline>li {display: inline-block}\n",
              ".list-inline>li:not(:last-child)::after {content: \"\\00b7\"; padding: 0 .5ex}\n",
              "</style>\n",
              "<ol class=list-inline><li>'avgpm25'</li><li>'awake_only'</li><li>'filename'</li><li>'msleep'</li><li>'msleep10'</li><li>'msleep5'</li><li>'mtcars'</li><li>'mtcars_data'</li><li>'plants_data'</li><li>'rivers'</li><li>'sleepData'</li><li>'url'</li></ol>\n"
            ]
          },
          "metadata": {
            "tags": []
          }
        },
        {
          "output_type": "display_data",
          "data": {
            "text/plain": [
              "   Min. 1st Qu.  Median    Mean 3rd Qu.    Max. \n",
              "  3.383   8.549  10.047   9.836  11.356  18.441 "
            ]
          },
          "metadata": {
            "tags": []
          }
        }
      ]
    },
    {
      "cell_type": "code",
      "metadata": {
        "colab": {
          "base_uri": "https://localhost:8080/",
          "height": 437
        },
        "id": "3pO103r-6Ni5",
        "outputId": "4a98a5a0-8c07-49b4-cba1-f82475b3a62a"
      },
      "source": [
        "boxplot(avgpm25$pm25, col='red')\n",
        "abline(h=12)"
      ],
      "execution_count": 87,
      "outputs": [
        {
          "output_type": "display_data",
          "data": {
            "image/png": "[encoded data removed]",
            "text/plain": [
              "plot without title"
            ]
          },
          "metadata": {
            "tags": [],
            "image/png": {
              "width": 420,
              "height": 420
            }
          }
        }
      ]
    },
    {
      "cell_type": "code",
      "metadata": {
        "colab": {
          "base_uri": "https://localhost:8080/",
          "height": 437
        },
        "id": "DqlUjlE368rV",
        "outputId": "65fa4074-7a55-47a7-8707-3d5c268d48a1"
      },
      "source": [
        "hist(avgpm25$pm25,col='blue')\n",
        "rug(avgpm25$pm25)"
      ],
      "execution_count": 86,
      "outputs": [
        {
          "output_type": "display_data",
          "data": {
            "image/png": "[encoded data removed]",
            "text/plain": [
              "Plot with title “Histogram of avgpm25$pm25”"
            ]
          },
          "metadata": {
            "tags": [],
            "image/png": {
              "width": 420,
              "height": 420
            }
          }
        }
      ]
    },
    {
      "cell_type": "code",
      "metadata": {
        "colab": {
          "base_uri": "https://localhost:8080/",
          "height": 437
        },
        "id": "FI6xWIOC7vek",
        "outputId": "193abb03-8e0b-4bd2-d9a6-e3129ce42dbb"
      },
      "source": [
        "hist(avgpm25$pm25,col='blue')\n",
        "rug(avgpm25$pm25)\n",
        "abline(v=12, col='red')"
      ],
      "execution_count": 85,
      "outputs": [
        {
          "output_type": "display_data",
          "data": {
            "image/png": "[encoded data removed]",
            "text/plain": [
              "Plot with title “Histogram of avgpm25$pm25”"
            ]
          },
          "metadata": {
            "tags": [],
            "image/png": {
              "width": 420,
              "height": 420
            }
          }
        }
      ]
    },
    {
      "cell_type": "code",
      "metadata": {
        "colab": {
          "base_uri": "https://localhost:8080/",
          "height": 488
        },
        "id": "4UKWmrTh9V4K",
        "outputId": "9eaf6d77-5d02-496d-a20b-801f5259e506"
      },
      "source": [
        "barplot(table(avgpm25$region))\n",
        "table(avgpm25$region)"
      ],
      "execution_count": 89,
      "outputs": [
        {
          "output_type": "display_data",
          "data": {
            "text/plain": [
              "\n",
              "east west \n",
              " 442  134 "
            ]
          },
          "metadata": {
            "tags": []
          }
        },
        {
          "output_type": "display_data",
          "data": {
            "image/png": "[encoded data removed]",
            "text/plain": [
              "plot without title"
            ]
          },
          "metadata": {
            "tags": [],
            "image/png": {
              "width": 420,
              "height": 420
            }
          }
        }
      ]
    },
    {
      "cell_type": "code",
      "metadata": {
        "colab": {
          "base_uri": "https://localhost:8080/",
          "height": 488
        },
        "id": "WKacf_XS9o3s",
        "outputId": "068a6c3d-812c-4d34-9cbb-3f2e0d89e67e"
      },
      "source": [
        "barplot(table(msleep$conservation), main=\"Title\")\n",
        "table(msleep$conservation)"
      ],
      "execution_count": 92,
      "outputs": [
        {
          "output_type": "display_data",
          "data": {
            "text/plain": [
              "\n",
              "          cd domesticated           en           lc           nt           vu \n",
              "           2           10            4           27            4            7 "
            ]
          },
          "metadata": {
            "tags": []
          }
        },
        {
          "output_type": "display_data",
          "data": {
            "image/png": "[encoded data removed]",
            "text/plain": [
              "Plot with title “Title”"
            ]
          },
          "metadata": {
            "tags": [],
            "image/png": {
              "width": 420,
              "height": 420
            }
          }
        }
      ]
    }
  ]
}